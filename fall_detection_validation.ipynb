{
 "cells": [
  {
   "cell_type": "code",
   "execution_count": 82,
   "metadata": {},
   "outputs": [],
   "source": [
    "import matplotlib.pyplot as plt\n",
    "import numpy as np\n",
    "import os\n",
    "import pandas as pd\n",
    "\n",
    "from sklearn.metrics import ConfusionMatrixDisplay"
   ]
  },
  {
   "cell_type": "code",
   "execution_count": 83,
   "metadata": {},
   "outputs": [],
   "source": [
    "# Defining thresholds\n",
    "AT = 40    # Accelerometer threshold\n",
    "GT = 5    # Gyroscope threshold"
   ]
  },
  {
   "cell_type": "code",
   "execution_count": 84,
   "metadata": {},
   "outputs": [],
   "source": [
    "def predict_fall(df):\n",
    "    df.drop_duplicates(subset=[\"time\"], keep='last', inplace=True)\n",
    "    df.reset_index(drop=True, inplace=True)\n",
    "\n",
    "    df['acc'] = np.sqrt(df['ax'] ** 2 + df['ay'] ** 2 + df['az'] ** 2)\n",
    "    df['omega'] = np.sqrt(df['wx'] ** 2 + df['wy'] ** 2 + df['wz'] ** 2)\n",
    "\n",
    "    res = df.loc[ (df['acc'] > AT) & (df['omega'] > GT) ]\n",
    "\n",
    "    return res.shape[0] > 0\n"
   ]
  },
  {
   "cell_type": "code",
   "execution_count": 85,
   "metadata": {},
   "outputs": [
    {
     "name": "stdout",
     "output_type": "stream",
     "text": [
      "[INFO] c:\\Users\\lm555\\Desktop\\Sensores\\dataset\\caida\\1.csv predicted as True\n",
      "[INFO] c:\\Users\\lm555\\Desktop\\Sensores\\dataset\\caida\\2.csv predicted as False\n",
      "[INFO] c:\\Users\\lm555\\Desktop\\Sensores\\dataset\\caida\\3.csv predicted as False\n",
      "[INFO] c:\\Users\\lm555\\Desktop\\Sensores\\dataset\\caida\\4.csv predicted as True\n",
      "[INFO] c:\\Users\\lm555\\Desktop\\Sensores\\dataset\\caida\\5.csv predicted as False\n",
      "[INFO] c:\\Users\\lm555\\Desktop\\Sensores\\dataset\\caida\\6.csv predicted as True\n",
      "[INFO] c:\\Users\\lm555\\Desktop\\Sensores\\dataset\\caida\\7.csv predicted as True\n",
      "[INFO] c:\\Users\\lm555\\Desktop\\Sensores\\dataset\\caida\\8.csv predicted as True\n",
      "[INFO] c:\\Users\\lm555\\Desktop\\Sensores\\dataset\\sin_caida\\1.csv predicted as False\n",
      "[INFO] c:\\Users\\lm555\\Desktop\\Sensores\\dataset\\sin_caida\\2.csv predicted as False\n",
      "[INFO] c:\\Users\\lm555\\Desktop\\Sensores\\dataset\\sin_caida\\3.csv predicted as False\n",
      "[INFO] c:\\Users\\lm555\\Desktop\\Sensores\\dataset\\sin_caida\\4.csv predicted as False\n",
      "[INFO] c:\\Users\\lm555\\Desktop\\Sensores\\dataset\\sin_caida\\5.csv predicted as True\n",
      "[INFO] c:\\Users\\lm555\\Desktop\\Sensores\\dataset\\sin_caida\\6.csv predicted as False\n",
      "[INFO] c:\\Users\\lm555\\Desktop\\Sensores\\dataset\\sin_caida\\7.csv predicted as False\n",
      "[INFO] c:\\Users\\lm555\\Desktop\\Sensores\\dataset\\sin_caida\\8.csv predicted as False\n"
     ]
    }
   ],
   "source": [
    "BASE_PATH = os.getcwd()\n",
    "\n",
    "tp = fp = fn = tn = 0\n",
    "\n",
    "falls_directory = os.path.join(BASE_PATH, 'dataset', 'caida')\n",
    "\n",
    "for filename in os.listdir(falls_directory):\n",
    "    f = os.path.join(falls_directory, filename)\n",
    "    if os.path.isfile(f):\n",
    "        df = pd.read_csv(f)\n",
    "        prediction = predict_fall(df)\n",
    "        print(f'[INFO] {f} predicted as {prediction}')\n",
    "        if prediction == True:\n",
    "            tp += 1\n",
    "        else:\n",
    "            fn += 1\n",
    "\n",
    "safe_directory = os.path.join(BASE_PATH, 'dataset', 'sin_caida')\n",
    "\n",
    "for filename in os.listdir(safe_directory):\n",
    "    f = os.path.join(safe_directory, filename)\n",
    "    if os.path.isfile(f):\n",
    "        df = pd.read_csv(f)\n",
    "        prediction = predict_fall(df)\n",
    "        print(f'[INFO] {f} predicted as {prediction}')\n",
    "        if prediction == False:\n",
    "            tn += 1\n",
    "        else:\n",
    "            fp += 1"
   ]
  },
  {
   "cell_type": "code",
   "execution_count": 91,
   "metadata": {},
   "outputs": [
    {
     "data": {
      "image/png": "[encoded data removed]",
      "text/plain": [
       "<Figure size 432x288 with 2 Axes>"
      ]
     },
     "metadata": {
      "needs_background": "light"
     },
     "output_type": "display_data"
    },
    {
     "name": "stdout",
     "output_type": "stream",
     "text": [
      "accuracy = 0.75\n",
      "precision = 0.8333333333333334\n",
      "recall = 0.625\n",
      "f1 = 0.7142857142857143\n"
     ]
    }
   ],
   "source": [
    "cm = np.array(\n",
    "    [\n",
    "        [tp, fn],\n",
    "        [fp, tn]\n",
    "    ]\n",
    ")\n",
    "\n",
    "labels = [\"fall\", \"no_fall\"]\n",
    "\n",
    "disp = ConfusionMatrixDisplay(confusion_matrix=cm,\n",
    "                               display_labels=labels)\n",
    "                               \n",
    "disp.plot()\n",
    "plt.show()\n",
    "\n",
    "acc = (tp + tn) / (tp + fn + tn + fp)\n",
    "pre = tp / (tp + fp)\n",
    "rec = tp / (tp + fn)\n",
    "f1 = (2 * pre * rec) / (pre + rec)\n",
    "\n",
    "print(f'accuracy = {acc}')\n",
    "print(f'precision = {pre}')\n",
    "print(f'recall = {rec}')\n",
    "print(f'f1 = {f1}')"
   ]
  },
  {
   "cell_type": "code",
   "execution_count": null,
   "metadata": {},
   "outputs": [],
   "source": []
  }
 ],
 "metadata": {
  "interpreter": {
   "hash": "c45351ba1c7bb22c1b3a2084c40227d667f56a1e23a6d41efd5339c504c35eb6"
  },
  "kernelspec": {
   "display_name": "Python 3.9.7 ('base')",
   "language": "python",
   "name": "python3"
  },
  "language_info": {
   "codemirror_mode": {
    "name": "ipython",
    "version": 3
   },
   "file_extension": ".py",
   "mimetype": "text/x-python",
   "name": "python",
   "nbconvert_exporter": "python",
   "pygments_lexer": "ipython3",
   "version": "3.9.7"
  },
  "orig_nbformat": 4
 },
 "nbformat": 4,
 "nbformat_minor": 2
}
